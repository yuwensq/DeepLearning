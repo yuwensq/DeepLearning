{
 "cells": [
  {
   "cell_type": "markdown",
   "id": "b0386667",
   "metadata": {},
   "source": [
    "# RNN Tutorial"
   ]
  },
  {
   "cell_type": "markdown",
   "id": "888043a3",
   "metadata": {},
   "source": [
    "Included in the data/names directory are 18 text files named as “[Language].txt”. Each file contains a bunch of names, one name per line, mostly romanized (but we still need to convert from Unicode to ASCII).\n",
    "\n",
    "We’ll end up with a dictionary of lists of names per language, {language: [names ...]}. The generic variables “category” and “line” (for language and name in our case) are used for later extensibility."
   ]
  },
  {
   "cell_type": "code",
   "execution_count": 1,
   "id": "b44343fa",
   "metadata": {
    "scrolled": true
   },
   "outputs": [
    {
     "name": "stdout",
     "output_type": "stream",
     "text": [
      "['data/names/Vietnamese.txt', 'data/names/Scottish.txt', 'data/names/Arabic.txt', 'data/names/Czech.txt', 'data/names/Dutch.txt', 'data/names/Polish.txt', 'data/names/Japanese.txt', 'data/names/Chinese.txt', 'data/names/Irish.txt', 'data/names/Portuguese.txt', 'data/names/Korean.txt', 'data/names/French.txt', 'data/names/Russian.txt', 'data/names/German.txt', 'data/names/Greek.txt', 'data/names/Spanish.txt', 'data/names/English.txt', 'data/names/Italian.txt']\n",
      "Slusarski\n"
     ]
    }
   ],
   "source": [
    "from __future__ import unicode_literals, print_function, division\n",
    "from io import open\n",
    "import glob\n",
    "import os\n",
    "\n",
    "def findFiles(path): return glob.glob(path)\n",
    "\n",
    "print(findFiles('data/names/*.txt'))\n",
    "\n",
    "import unicodedata\n",
    "import string\n",
    "\n",
    "all_letters = string.ascii_letters + \" .,;'\"\n",
    "n_letters = len(all_letters)\n",
    "\n",
    "# Turn a Unicode string to plain ASCII, thanks to https://stackoverflow.com/a/518232/2809427\n",
    "def unicodeToAscii(s):\n",
    "    return ''.join(\n",
    "        c for c in unicodedata.normalize('NFD', s)\n",
    "        if unicodedata.category(c) != 'Mn'\n",
    "        and c in all_letters\n",
    "    )\n",
    "\n",
    "print(unicodeToAscii('Ślusàrski'))\n",
    "\n",
    "# Build the category_lines dictionary, a list of names per language\n",
    "category_lines = {}\n",
    "all_categories = []\n",
    "\n",
    "# Read a file and split into lines\n",
    "def readLines(filename):\n",
    "    lines = open(filename, encoding='utf-8').read().strip().split('\\n')\n",
    "    return [unicodeToAscii(line) for line in lines]\n",
    "\n",
    "for filename in findFiles('data/names/*.txt'):\n",
    "    category = os.path.splitext(os.path.basename(filename))[0]\n",
    "    all_categories.append(category)\n",
    "    lines = readLines(filename)\n",
    "    category_lines[category] = lines\n",
    "\n",
    "n_categories = len(all_categories)"
   ]
  },
  {
   "cell_type": "markdown",
   "id": "e58f58a0",
   "metadata": {},
   "source": [
    "Now we have category_lines, a dictionary mapping each category (language) to a list of lines (names). We also kept track of all_categories (just a list of languages) and n_categories for later reference."
   ]
  },
  {
   "cell_type": "code",
   "execution_count": 2,
   "id": "03a992d9",
   "metadata": {},
   "outputs": [
    {
     "name": "stdout",
     "output_type": "stream",
     "text": [
      "['Abandonato', 'Abatangelo', 'Abatantuono', 'Abate', 'Abategiovanni']\n"
     ]
    }
   ],
   "source": [
    "print(category_lines['Italian'][:5])"
   ]
  },
  {
   "cell_type": "markdown",
   "id": "6c219cf0",
   "metadata": {},
   "source": [
    "### Turning Names into Tensors\n",
    "Now that we have all the names organized, we need to turn them into Tensors to make any use of them.\n",
    "\n",
    "To represent a single letter, we use a “one-hot vector” of size <1 x n_letters>. A one-hot vector is filled with 0s except for a 1 at index of the current letter, e.g. \"b\" = <0 1 0 0 0 ...>.\n",
    "\n",
    "To make a word we join a bunch of those into a 2D matrix <line_length x 1 x n_letters>.\n",
    "\n",
    "That extra 1 dimension is because PyTorch assumes everything is in batches - we’re just using a batch size of 1 here."
   ]
  },
  {
   "cell_type": "code",
   "execution_count": 3,
   "id": "c479aae7",
   "metadata": {
    "scrolled": true
   },
   "outputs": [
    {
     "name": "stderr",
     "output_type": "stream",
     "text": [
      "\u001b[38;5;2m[i 0310 12:14:29.402351 80 log.cc:351] Load log_sync: 1\u001b[m\n",
      "\u001b[38;5;2m[i 0310 12:14:29.424719 80 compiler.py:955] Jittor(1.3.6.10) src: /home/lzyhha/anaconda3/envs/jdet/lib/python3.8/site-packages/jittor\u001b[m\n",
      "\u001b[38;5;2m[i 0310 12:14:29.426860 80 compiler.py:956] g++ at /usr/bin/g++(9.4.0)\u001b[m\n",
      "\u001b[38;5;2m[i 0310 12:14:29.427169 80 compiler.py:957] cache_path: /home/lzyhha/.cache/jittor/jt1.3.6/g++9.4.0/py3.8.13/Linux-5.15.0-6xe4/12thGenIntelRCx51/default\u001b[m\n",
      "\u001b[38;5;2m[i 0310 12:14:29.429421 80 __init__.py:411] Found nvcc(11.7.64) at /usr/local/cuda-11.7/bin/nvcc.\u001b[m\n",
      "\u001b[38;5;2m[i 0310 12:14:29.455640 80 __init__.py:411] Found gdb(20.04.1) at /usr/bin/gdb.\u001b[m\n",
      "\u001b[38;5;2m[i 0310 12:14:29.458277 80 __init__.py:411] Found addr2line(2.34) at /usr/bin/addr2line.\u001b[m\n",
      "\u001b[38;5;2m[i 0310 12:14:29.512277 80 compiler.py:1010] cuda key:cu11.7.64_sm_86\u001b[m\n",
      "\u001b[38;5;2m[i 0310 12:14:29.588093 80 __init__.py:227] Total mem: 62.58GB, using 16 procs for compiling.\u001b[m\n",
      "\u001b[38;5;2m[i 0310 12:14:29.649941 80 jit_compiler.cc:28] Load cc_path: /usr/bin/g++\u001b[m\n",
      "\u001b[38;5;2m[i 0310 12:14:29.733403 80 init.cc:62] Found cuda archs: [86,]\u001b[m\n",
      "\u001b[38;5;2m[i 0310 12:14:29.777662 80 __init__.py:411] Found mpicc(4.0.3) at /usr/bin/mpicc.\u001b[m\n",
      "\u001b[38;5;3m[w 0310 12:14:29.810971 80 compile_extern.py:203] CUDA related path found in LD_LIBRARY_PATH or PATH(['', '/usr/local/cuda-11.7/lib64', '/home/lzyhha/.vscode-server/bin/92da9481c0904c6adfe372c12da3b7748d74bdcb/bin/remote-cli', '/home/lzyhha/anaconda3/envs/jdet/bin', '/home/lzyhha/anaconda3/condabin', '/usr/local/sbin', '/usr/local/bin', '/usr/sbin', '/usr/bin', '/sbin', '/bin', '/usr/games', '/usr/local/games', '/snap/bin', '/usr/local/cuda-11.7/bin']), This path may cause jittor found the wrong libs, please unset LD_LIBRARY_PATH and remove cuda lib path in Path. \n",
      "Or you can let jittor install cuda for you: `python3.x -m jittor_utils.install_cuda`\u001b[m\n"
     ]
    },
    {
     "name": "stdout",
     "output_type": "stream",
     "text": [
      "jt.Var([[0. 0. 0. 0. 0. 0. 0. 0. 0. 0. 0. 0. 0. 0. 0. 0. 0. 0. 0. 0. 0. 0. 0. 0.\n",
      "         0. 0. 0. 0. 0. 0. 0. 0. 0. 0. 0. 1. 0. 0. 0. 0. 0. 0. 0. 0. 0. 0. 0. 0.\n",
      "         0. 0. 0. 0. 0. 0. 0. 0. 0.]], dtype=float32)\n",
      "[5,1,57,]\n"
     ]
    }
   ],
   "source": [
    "import jittor\n",
    "\n",
    "# Find letter index from all_letters, e.g. \"a\" = 0\n",
    "def letterToIndex(letter):\n",
    "    return all_letters.find(letter)\n",
    "\n",
    "# Just for demonstration, turn a letter into a <1 x n_letters> Tensor\n",
    "def letterToTensor(letter):\n",
    "    tensor = jittor.zeros((1, n_letters))\n",
    "    tensor[0][letterToIndex(letter)] = 1\n",
    "    return tensor\n",
    "\n",
    "# Turn a line into a <line_length x 1 x n_letters>,\n",
    "# or an array of one-hot letter vectors\n",
    "def lineToTensor(line):\n",
    "    tensor = jittor.zeros((len(line), 1, n_letters))\n",
    "    for li, letter in enumerate(line):\n",
    "        tensor[li][0][letterToIndex(letter)] = 1\n",
    "    return tensor\n",
    "\n",
    "print(letterToTensor('J'))\n",
    "\n",
    "print(lineToTensor('Jones').size())"
   ]
  },
  {
   "cell_type": "markdown",
   "id": "8a979493",
   "metadata": {},
   "source": [
    "### Creating the Network\n",
    "Before autograd, creating a recurrent neural network in Torch involved cloning the parameters of a layer over several timesteps. The layers held hidden state and gradients which are now entirely handled by the graph itself. This means you can implement a RNN in a very “pure” way, as regular feed-forward layers.\n",
    "\n",
    "This RNN module (mostly copied from the PyTorch for Torch users tutorial) is just 2 linear layers which operate on an input and hidden state, with a LogSoftmax layer after the output."
   ]
  },
  {
   "attachments": {
    "rnn.png": {
     "image/png": "[encoded data removed]"
    }
   },
   "cell_type": "markdown",
   "id": "a5802423",
   "metadata": {},
   "source": [
    "![rnn.png](attachment:rnn.png)"
   ]
  },
  {
   "cell_type": "code",
   "execution_count": 4,
   "id": "cc618041",
   "metadata": {},
   "outputs": [],
   "source": [
    "import jittor.nn as nn\n",
    "\n",
    "class RNN(nn.Module):\n",
    "    def __init__(self, input_size, hidden_size, output_size):\n",
    "        super(RNN, self).__init__()\n",
    "\n",
    "        self.hidden_size = hidden_size\n",
    "\n",
    "        self.i2h = nn.Linear(input_size + hidden_size, hidden_size)\n",
    "        self.i2o = nn.Linear(input_size + hidden_size, output_size)\n",
    "\n",
    "    def execute(self, input, hidden):\n",
    "        combined = jittor.concat((input, hidden), 1)\n",
    "        hidden = self.i2h(combined)\n",
    "        output = self.i2o(combined)\n",
    "        output = jittor.nn.log_softmax(output)\n",
    "        return output, hidden\n",
    "\n",
    "    def initHidden(self):\n",
    "        return jittor.zeros((1, self.hidden_size))\n",
    "\n",
    "n_hidden = 128\n",
    "rnn = RNN(n_letters, n_hidden, n_categories)"
   ]
  },
  {
   "cell_type": "markdown",
   "id": "9e1fa5ee",
   "metadata": {},
   "source": [
    "To run a step of this network we need to pass an input (in our case, the Tensor for the current letter) and a previous hidden state (which we initialize as zeros at first). We’ll get back the output (probability of each language) and a next hidden state (which we keep for the next step)."
   ]
  },
  {
   "cell_type": "code",
   "execution_count": 5,
   "id": "b4b9eecb",
   "metadata": {},
   "outputs": [],
   "source": [
    "input = letterToTensor('A')\n",
    "hidden = jittor.zeros((1, n_hidden))\n",
    "\n",
    "output, next_hidden = rnn(input, hidden)"
   ]
  },
  {
   "cell_type": "markdown",
   "id": "eb17c8f1",
   "metadata": {},
   "source": [
    "For the sake of efficiency we don’t want to be creating a new Tensor for every step, so we will use lineToTensor instead of letterToTensor and use slices. This could be further optimized by pre-computing batches of Tensors."
   ]
  },
  {
   "cell_type": "code",
   "execution_count": 6,
   "id": "b5c2d9ad",
   "metadata": {},
   "outputs": [
    {
     "name": "stdout",
     "output_type": "stream",
     "text": [
      "jt.Var([[0.05193255 0.0558621  0.05383034 0.05439388 0.06081381 0.05569347\n",
      "         0.05434854 0.05607878 0.05579849 0.05655409 0.054328   0.05379442\n",
      "         0.05420329 0.05561821 0.06365225 0.05299544 0.05167997 0.0584224 ]], dtype=float32)\n"
     ]
    }
   ],
   "source": [
    "input = lineToTensor('Albert')\n",
    "hidden = jittor.zeros((1, n_hidden))\n",
    "\n",
    "output, next_hidden = rnn(input[0], hidden)\n",
    "print(jittor.exp(output))"
   ]
  },
  {
   "cell_type": "markdown",
   "id": "7cf3d70c",
   "metadata": {},
   "source": [
    "As you can see the output is a <1 x n_categories> Tensor, where every item is the likelihood of that category (higher is more likely)."
   ]
  },
  {
   "cell_type": "markdown",
   "id": "5b07c378",
   "metadata": {},
   "source": [
    "### Preparing for Training\n",
    "Before going into training we should make a few helper functions. The first is to interpret the output of the network, which we know to be a likelihood of each category. We can use Tensor.topk to get the index of the greatest value:"
   ]
  },
  {
   "cell_type": "code",
   "execution_count": 7,
   "id": "0fa90972",
   "metadata": {},
   "outputs": [
    {
     "name": "stdout",
     "output_type": "stream",
     "text": [
      "('Greek', 14)\n"
     ]
    }
   ],
   "source": [
    "def categoryFromOutput(output):\n",
    "    top_n, top_i = output.topk(1)\n",
    "    category_i = top_i[0].item()\n",
    "    return all_categories[category_i], category_i\n",
    "\n",
    "print(categoryFromOutput(output))"
   ]
  },
  {
   "cell_type": "markdown",
   "id": "627e3f73",
   "metadata": {},
   "source": [
    "We will also want a quick way to get a training example (a name and its language):"
   ]
  },
  {
   "cell_type": "code",
   "execution_count": 8,
   "id": "2c3ee352",
   "metadata": {},
   "outputs": [
    {
     "name": "stdout",
     "output_type": "stream",
     "text": [
      "category = Greek / line = Fourakis\n",
      "category = Korean / line = Yu\n",
      "category = Portuguese / line = Duarte\n",
      "category = Czech / line = Uerling\n",
      "category = German / line = Dirchs\n",
      "category = Irish / line = O'Mahony\n",
      "category = Japanese / line = Aoki\n",
      "category = German / line = Maier\n",
      "category = Portuguese / line = Belo\n",
      "category = Arabic / line = Tahan\n"
     ]
    }
   ],
   "source": [
    "import random\n",
    "\n",
    "def randomChoice(l):\n",
    "    return l[random.randint(0, len(l) - 1)]\n",
    "\n",
    "def randomTrainingExample():\n",
    "    category = randomChoice(all_categories)\n",
    "    line = randomChoice(category_lines[category])\n",
    "    category_tensor = jittor.array([all_categories.index(category)]).long()\n",
    "    line_tensor = lineToTensor(line)\n",
    "    return category, line, category_tensor, line_tensor\n",
    "\n",
    "for i in range(10):\n",
    "    category, line, category_tensor, line_tensor = randomTrainingExample()\n",
    "    print('category =', category, '/ line =', line)"
   ]
  },
  {
   "cell_type": "markdown",
   "id": "c40c4996",
   "metadata": {},
   "source": [
    "### Training the Network\n",
    "Now all it takes to train this network is show it a bunch of examples, have it make guesses, and tell it if it’s wrong.\n",
    "\n",
    "For the loss function nn.NLLLoss is appropriate, since the last layer of the RNN is nn.LogSoftmax."
   ]
  },
  {
   "cell_type": "code",
   "execution_count": 9,
   "id": "122bdeff",
   "metadata": {},
   "outputs": [],
   "source": [
    "def criterion(prediction, target):\n",
    "    target = target.broadcast(prediction, [1])\n",
    "    target = target.index(1) == target\n",
    "    target = target.float()\n",
    "\n",
    "    loss =  - target * prediction\n",
    "    loss = loss.sum(dim=1).mean()\n",
    "\n",
    "    return loss"
   ]
  },
  {
   "cell_type": "markdown",
   "id": "e304bb71",
   "metadata": {},
   "source": [
    "Each loop of training will:\n",
    "\n",
    "- Create input and target tensors\n",
    "- Create a zeroed initial hidden state\n",
    "- Read each letter in and keep hidden state for next letter\n",
    "- Compare final output to target\n",
    "- Back-propagate\n",
    "- Return the output and loss"
   ]
  },
  {
   "cell_type": "code",
   "execution_count": 10,
   "id": "602ea715",
   "metadata": {},
   "outputs": [],
   "source": [
    "learning_rate = 0.005 # If you set this too high, it might explode. If too low, it might not learn\n",
    "for p in rnn.parameters():\n",
    "    p.start_grad()\n",
    "\n",
    "def train(category_tensor, line_tensor):\n",
    "    hidden = rnn.initHidden()\n",
    "\n",
    "    for i in range(line_tensor.size()[0]):\n",
    "        output, hidden = rnn(line_tensor[i], hidden)\n",
    "    loss = criterion(output, category_tensor)\n",
    "\n",
    "    # Add parameters' gradients to their values, multiplied by learning rate\n",
    "    grads = jittor.grad(loss, rnn.parameters(), retain_graph=False)\n",
    "    for i, p in enumerate(rnn.parameters()):\n",
    "        grad = grads[i].stop_grad()\n",
    "        with jittor.no_grad():\n",
    "            p.update(p - learning_rate * grad)\n",
    "        p.start_grad()\n",
    "\n",
    "    return output, loss.item()"
   ]
  },
  {
   "cell_type": "markdown",
   "id": "eed19e81",
   "metadata": {},
   "source": [
    "Now we just have to run that with a bunch of examples. Since the train function returns both the output and loss we can print its guesses and also keep track of loss for plotting. Since there are 1000s of examples we print only every print_every examples, and take an average of the loss."
   ]
  },
  {
   "cell_type": "code",
   "execution_count": 11,
   "id": "e0dfe2c3",
   "metadata": {},
   "outputs": [
    {
     "name": "stdout",
     "output_type": "stream",
     "text": [
      "5000 5% (0m 5s) 2.3420 Cardona / Japanese ✗ (Spanish)\n",
      "10000 10% (0m 7s) 2.4637 Santana / Japanese ✗ (Portuguese)\n",
      "15000 15% (0m 10s) 2.6962 Skeril / Portuguese ✗ (Czech)\n",
      "20000 20% (0m 12s) 2.1655 Cablikova / Japanese ✗ (Czech)\n",
      "25000 25% (0m 15s) 2.6115 Yasui / Arabic ✗ (Japanese)\n",
      "30000 30% (0m 18s) 0.3214 Eliopoulos / Greek ✓\n",
      "35000 35% (0m 20s) 2.2703 Feld / Scottish ✗ (German)\n",
      "40000 40% (0m 23s) 0.9056 Ryom / Korean ✓\n",
      "45000 45% (0m 26s) 2.0765 Tennant / German ✗ (English)\n",
      "50000 50% (0m 28s) 2.1141 Santiago / Portuguese ✗ (Spanish)\n",
      "55000 55% (0m 31s) 3.2243 Klemper / German ✗ (Czech)\n",
      "60000 60% (0m 33s) 0.2950 Markhinin / Russian ✓\n",
      "65000 65% (0m 36s) 4.5999 Tsoumada / Japanese ✗ (Greek)\n",
      "70000 70% (0m 38s) 2.1037 Trampota / Spanish ✗ (Czech)\n",
      "75000 75% (0m 41s) 1.5239 Han / Chinese ✗ (Vietnamese)\n",
      "80000 80% (0m 44s) 3.0632 Kilshaw / Arabic ✗ (English)\n",
      "85000 85% (0m 46s) 0.7909 Abaroa / Spanish ✓\n",
      "90000 90% (0m 50s) 7.7245 Yam / Chinese ✗ (Russian)\n",
      "95000 95% (0m 55s) 0.1405 Dang / Vietnamese ✓\n",
      "100000 100% (0m 59s) 2.2390 Gorman / Irish ✗ (German)\n"
     ]
    }
   ],
   "source": [
    "import time\n",
    "import math\n",
    "\n",
    "n_iters = 100000\n",
    "print_every = 5000\n",
    "plot_every = 1000\n",
    "\n",
    "\n",
    "\n",
    "# Keep track of losses for plotting\n",
    "current_loss = 0\n",
    "all_losses = []\n",
    "\n",
    "def timeSince(since):\n",
    "    now = time.time()\n",
    "    s = now - since\n",
    "    m = math.floor(s / 60)\n",
    "    s -= m * 60\n",
    "    return '%dm %ds' % (m, s)\n",
    "\n",
    "start = time.time()\n",
    "\n",
    "for iter in range(1, n_iters + 1):\n",
    "    category, line, category_tensor, line_tensor = randomTrainingExample()\n",
    "    output, loss = train(category_tensor, line_tensor)\n",
    "    current_loss += loss\n",
    "\n",
    "    # Print iter number, loss, name and guess\n",
    "    if iter % print_every == 0:\n",
    "        guess, guess_i = categoryFromOutput(output)\n",
    "        correct = '✓' if guess == category else '✗ (%s)' % category\n",
    "        print('%d %d%% (%s) %.4f %s / %s %s' % (iter, iter / n_iters * 100, timeSince(start), loss, line, guess, correct))\n",
    "\n",
    "    # Add current loss avg to list of losses\n",
    "    if iter % plot_every == 0:\n",
    "        all_losses.append(current_loss / plot_every)\n",
    "        current_loss = 0"
   ]
  },
  {
   "cell_type": "markdown",
   "id": "9919c0b4",
   "metadata": {},
   "source": [
    "### Plotting the Results\n",
    "Plotting the historical loss from all_losses shows the network learning:"
   ]
  },
  {
   "cell_type": "code",
   "execution_count": 12,
   "id": "5533ea72",
   "metadata": {},
   "outputs": [
    {
     "name": "stderr",
     "output_type": "stream",
     "text": [
      "/home/lzyhha/anaconda3/envs/jdet/lib/python3.8/site-packages/numpy/core/getlimits.py:500: UserWarning: The value of the smallest subnormal for <class 'numpy.float64'> type is zero.\n",
      "  setattr(self, word, getattr(machar, word).flat[0])\n",
      "/home/lzyhha/anaconda3/envs/jdet/lib/python3.8/site-packages/numpy/core/getlimits.py:89: UserWarning: The value of the smallest subnormal for <class 'numpy.float64'> type is zero.\n",
      "  return self._float_to_str(self.smallest_subnormal)\n"
     ]
    },
    {
     "data": {
      "text/plain": [
       "[<matplotlib.lines.Line2D at 0x7f3fa40f73d0>]"
      ]
     },
     "execution_count": 12,
     "metadata": {},
     "output_type": "execute_result"
    },
    {
     "data": {
      "image/png": "[encoded data removed]",
      "text/plain": [
       "<Figure size 640x480 with 1 Axes>"
      ]
     },
     "metadata": {},
     "output_type": "display_data"
    }
   ],
   "source": [
    "import matplotlib.pyplot as plt\n",
    "import matplotlib.ticker as ticker\n",
    "\n",
    "plt.figure()\n",
    "plt.plot(all_losses)"
   ]
  },
  {
   "cell_type": "markdown",
   "id": "44d8a092",
   "metadata": {},
   "source": [
    "### Evaluating the Results\n",
    "To see how well the network performs on different categories, we will create a confusion matrix, indicating for every actual language (rows) which language the network guesses (columns). To calculate the confusion matrix a bunch of samples are run through the network with evaluate(), which is the same as train() minus the backprop."
   ]
  },
  {
   "cell_type": "code",
   "execution_count": 13,
   "id": "71e6c595",
   "metadata": {
    "scrolled": true
   },
   "outputs": [
    {
     "name": "stderr",
     "output_type": "stream",
     "text": [
      "/tmp/ipykernel_435858/2335053960.py:33: UserWarning: FixedFormatter should only be used together with FixedLocator\n",
      "  ax.set_xticklabels([''] + all_categories, rotation=90)\n",
      "/tmp/ipykernel_435858/2335053960.py:34: UserWarning: FixedFormatter should only be used together with FixedLocator\n",
      "  ax.set_yticklabels([''] + all_categories)\n"
     ]
    },
    {
     "data": {
      "image/png": "[encoded data removed]",
      "text/plain": [
       "<Figure size 640x480 with 2 Axes>"
      ]
     },
     "metadata": {},
     "output_type": "display_data"
    }
   ],
   "source": [
    "# Keep track of correct guesses in a confusion matrix\n",
    "confusion = jittor.zeros((n_categories, n_categories))\n",
    "n_confusion = 10000\n",
    "\n",
    "# Just return an output given a line\n",
    "def evaluate(line_tensor):\n",
    "    hidden = rnn.initHidden()\n",
    "\n",
    "    for i in range(line_tensor.size()[0]):\n",
    "        output, hidden = rnn(line_tensor[i], hidden)\n",
    "\n",
    "    return output\n",
    "\n",
    "# Go through a bunch of examples and record which are correctly guessed\n",
    "for i in range(n_confusion):\n",
    "    category, line, category_tensor, line_tensor = randomTrainingExample()\n",
    "    output = evaluate(line_tensor)\n",
    "    guess, guess_i = categoryFromOutput(output)\n",
    "    category_i = all_categories.index(category)\n",
    "    confusion[category_i][guess_i] += 1\n",
    "\n",
    "# Normalize by dividing every row by its sum\n",
    "for i in range(n_categories):\n",
    "    confusion[i] = confusion[i] / confusion[i].sum()\n",
    "\n",
    "# Set up plot\n",
    "fig = plt.figure()\n",
    "ax = fig.add_subplot(111)\n",
    "cax = ax.matshow(confusion.numpy())\n",
    "fig.colorbar(cax)\n",
    "\n",
    "# Set up axes\n",
    "ax.set_xticklabels([''] + all_categories, rotation=90)\n",
    "ax.set_yticklabels([''] + all_categories)\n",
    "\n",
    "# Force label at every tick\n",
    "ax.xaxis.set_major_locator(ticker.MultipleLocator(1))\n",
    "ax.yaxis.set_major_locator(ticker.MultipleLocator(1))\n",
    "\n",
    "# sphinx_gallery_thumbnail_number = 2\n",
    "plt.show()"
   ]
  },
  {
   "cell_type": "markdown",
   "id": "b65115e1",
   "metadata": {},
   "source": [
    "You can pick out bright spots off the main axis that show which languages it guesses incorrectly, e.g. Chinese for Korean, and Spanish for Italian. It seems to do very well with Greek, and very poorly with English (perhaps because of overlap with other languages)."
   ]
  },
  {
   "cell_type": "markdown",
   "id": "dfe1c01e",
   "metadata": {},
   "source": [
    "### Running on User Input"
   ]
  },
  {
   "cell_type": "code",
   "execution_count": 14,
   "id": "23a19ee4",
   "metadata": {},
   "outputs": [
    {
     "name": "stdout",
     "output_type": "stream",
     "text": [
      "\n",
      "> Dovesky\n",
      "(0.61) Russian\n",
      "(0.25) Czech\n",
      "(0.08) English\n",
      "\n",
      "> Jackson\n",
      "(0.91) Scottish\n",
      "(0.04) English\n",
      "(0.02) Russian\n",
      "\n",
      "> Hou\n",
      "(0.38) Korean\n",
      "(0.36) Chinese\n",
      "(0.16) Vietnamese\n"
     ]
    }
   ],
   "source": [
    "import math\n",
    "import numpy as np\n",
    "\n",
    "def predict(input_line, n_predictions=3):\n",
    "    print('\\n> %s' % input_line)\n",
    "    with jittor.no_grad():\n",
    "        output = evaluate(lineToTensor(input_line))\n",
    "\n",
    "        # Get top N categories\n",
    "        topv, topi = output.topk(n_predictions, 1, True)\n",
    "        predictions = []\n",
    "\n",
    "        for i in range(n_predictions):\n",
    "            value = topv[0][i].item()\n",
    "            category_index = topi[0][i].item()\n",
    "            print('(%.2f) %s' % (np.exp(value), all_categories[category_index]))\n",
    "            predictions.append([value, all_categories[category_index]])\n",
    "\n",
    "predict('Dovesky')\n",
    "predict('Jackson')\n",
    "predict('Hou')"
   ]
  },
  {
   "cell_type": "code",
   "execution_count": null,
   "id": "3a170e12",
   "metadata": {},
   "outputs": [],
   "source": []
  }
 ],
 "metadata": {
  "kernelspec": {
   "display_name": "jdet",
   "language": "python",
   "name": "python3"
  },
  "language_info": {
   "codemirror_mode": {
    "name": "ipython",
    "version": 3
   },
   "file_extension": ".py",
   "mimetype": "text/x-python",
   "name": "python",
   "nbconvert_exporter": "python",
   "pygments_lexer": "ipython3",
   "version": "3.8.13"
  }
 },
 "nbformat": 4,
 "nbformat_minor": 5
}
