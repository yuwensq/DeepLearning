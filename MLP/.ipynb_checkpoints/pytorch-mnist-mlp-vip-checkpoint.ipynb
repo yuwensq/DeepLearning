{
 "cells": [
  {
   "cell_type": "markdown",
   "metadata": {},
   "source": [
    "# MNIST handwritten digits classification with MLPs\n",
    "\n",
    "In this notebook, we'll train a multi-layer perceptron model to classify MNIST digits using **PyTorch**. \n",
    "\n",
    "First, the needed imports. "
   ]
  },
  {
   "cell_type": "code",
   "execution_count": 7,
   "metadata": {
    "scrolled": true
   },
   "outputs": [
    {
     "name": "stdout",
     "output_type": "stream",
     "text": [
      "Using PyTorch version: 1.13.0+cu117  Device: cuda\n"
     ]
    }
   ],
   "source": [
    "%matplotlib inline\n",
    "import os    \n",
    "os.environ['KMP_DUPLICATE_LIB_OK'] = 'True'\n",
    "import torch\n",
    "import torch.nn as nn\n",
    "import torch.nn.functional as F\n",
    "from torchvision import datasets, transforms\n",
    "from timm.models.layers import DropPath, trunc_normal_\n",
    "\n",
    "import numpy as np\n",
    "import matplotlib.pyplot as plt\n",
    "\n",
    "if torch.cuda.is_available():\n",
    "    device = torch.device('cuda')\n",
    "else:\n",
    "    device = torch.device('cpu')\n",
    "    \n",
    "print('Using PyTorch version:', torch.__version__, ' Device:', device)"
   ]
  },
  {
   "cell_type": "markdown",
   "metadata": {},
   "source": [
    "## Data\n",
    "\n",
    "Next we'll load the MNIST data.  First time we may have to download the data, which can take a while.\n",
    "\n",
    "Note that we are here using the MNIST test data for *validation*, instead of for testing the final model."
   ]
  },
  {
   "cell_type": "code",
   "execution_count": 8,
   "metadata": {},
   "outputs": [],
   "source": [
    "batch_size = 32\n",
    "\n",
    "train_dataset = datasets.MNIST('./data', \n",
    "                               train=True, \n",
    "                               download=True, \n",
    "                               transform=transforms.ToTensor())\n",
    "\n",
    "validation_dataset = datasets.MNIST('./data', \n",
    "                                    train=False, \n",
    "                                    transform=transforms.ToTensor())\n",
    "\n",
    "train_loader = torch.utils.data.DataLoader(dataset=train_dataset, \n",
    "                                           batch_size=batch_size, \n",
    "                                           shuffle=True)\n",
    "\n",
    "validation_loader = torch.utils.data.DataLoader(dataset=validation_dataset, \n",
    "                                                batch_size=batch_size, \n",
    "                                                shuffle=False)"
   ]
  },
  {
   "cell_type": "markdown",
   "metadata": {},
   "source": [
    "The train and test data are provided via data loaders that provide iterators over the datasets. The first element of training data (`X_train`) is a 4th-order tensor of size (`batch_size`, 1, 28, 28), i.e. it consists of a batch of images of size 1x28x28 pixels. `y_train` is a vector containing the correct classes (\"0\", \"1\", ..., \"9\") for each training digit."
   ]
  },
  {
   "cell_type": "code",
   "execution_count": 9,
   "metadata": {},
   "outputs": [
    {
     "name": "stdout",
     "output_type": "stream",
     "text": [
      "X_train: torch.Size([32, 1, 28, 28]) type: torch.FloatTensor\n",
      "y_train: torch.Size([32]) type: torch.LongTensor\n"
     ]
    }
   ],
   "source": [
    "for (X_train, y_train) in train_loader:\n",
    "    print('X_train:', X_train.size(), 'type:', X_train.type())\n",
    "    print('y_train:', y_train.size(), 'type:', y_train.type())\n",
    "    break"
   ]
  },
  {
   "cell_type": "markdown",
   "metadata": {},
   "source": [
    "Here are the first 10 training digits:"
   ]
  },
  {
   "cell_type": "code",
   "execution_count": 10,
   "metadata": {},
   "outputs": [
    {
     "data": {
      "image/png": "[encoded data removed]",
      "text/plain": [
       "<Figure size 1000x100 with 10 Axes>"
      ]
     },
     "metadata": {},
     "output_type": "display_data"
    }
   ],
   "source": [
    "pltsize=1\n",
    "plt.figure(figsize=(10*pltsize, pltsize))\n",
    "\n",
    "for i in range(10):\n",
    "    plt.subplot(1,10,i+1)\n",
    "    plt.axis('off')\n",
    "    plt.imshow(X_train[i,:,:,:].numpy().reshape(28,28), cmap=\"gray_r\")\n",
    "    plt.title('Class: '+str(y_train[i].item()))"
   ]
  },
  {
   "cell_type": "markdown",
   "metadata": {},
   "source": [
    "## ViP NetWork"
   ]
  },
  {
   "cell_type": "code",
   "execution_count": 44,
   "metadata": {},
   "outputs": [],
   "source": [
    "class Mlp(nn.Module):\n",
    "    def __init__(self, in_features, hidden_features=None, out_features=None, act_layer=nn.GELU, drop=0.):\n",
    "        super().__init__()\n",
    "        out_features = out_features or in_features\n",
    "        hidden_features = hidden_features or in_features\n",
    "        self.fc1 = nn.Linear(in_features, hidden_features)\n",
    "        self.act = act_layer()\n",
    "        self.fc2 = nn.Linear(hidden_features, out_features)\n",
    "        self.drop = nn.Dropout(drop)\n",
    "\n",
    "    def forward(self, x):\n",
    "        x = self.fc1(x)\n",
    "        x = self.act(x)\n",
    "        x = self.drop(x)\n",
    "        x = self.fc2(x)\n",
    "        x = self.drop(x)\n",
    "        return x\n",
    "\n",
    "\n",
    "class WeightedPermuteMLP(nn.Module):\n",
    "    def __init__(self, dim, segment_dim=7, proj_drop=0.):\n",
    "        super().__init__()\n",
    "        self.segment_dim = segment_dim\n",
    "\n",
    "        self.mlp_c = nn.Linear(dim, dim)\n",
    "        self.mlp_h = nn.Linear(dim, dim)\n",
    "        self.mlp_w = nn.Linear(dim, dim)\n",
    "\n",
    "        self.reweight = Mlp(dim, dim // 4, dim * 3)\n",
    "\n",
    "        self.proj = nn.Linear(dim, dim)\n",
    "        self.proj_drop = nn.Dropout(proj_drop)\n",
    "\n",
    "    def forward(self, x):\n",
    "        B, H, W, C = x.shape\n",
    "\n",
    "#         print(x.shape)\n",
    "        S = C // self.segment_dim\n",
    "#         print(S, C, self.segment_dim)\n",
    "        h = x.reshape(B, H, W, self.segment_dim, S).permute(\n",
    "            0, 3, 2, 1, 4).reshape(B, self.segment_dim, W, H*S)\n",
    "#         print(h.shape)\n",
    "        h = self.mlp_h(h).reshape(B, self.segment_dim, W, H, S).permute(\n",
    "            0, 3, 2, 1, 4).reshape(B, H, W, C)\n",
    "\n",
    "        w = x.reshape(B, H, W, self.segment_dim, S).permute(\n",
    "            0, 1, 3, 2, 4).reshape(B, H, self.segment_dim, W*S)\n",
    "        w = self.mlp_w(w).reshape(B, H, self.segment_dim, W, S).permute(\n",
    "            0, 1, 3, 2, 4).reshape(B, H, W, C)\n",
    "\n",
    "        c = self.mlp_c(x)\n",
    "\n",
    "        a = (h + w + c).permute(0, 3, 1, 2).flatten(2).mean(2)\n",
    "        a = self.reweight(a).reshape(B, C, 3).permute(\n",
    "            2, 0, 1).softmax(dim=0).unsqueeze(2).unsqueeze(2)\n",
    "\n",
    "        x = h * a[0] + w * a[1] + c * a[2]\n",
    "\n",
    "        x = self.proj(x)\n",
    "        x = self.proj_drop(x)\n",
    "\n",
    "        return x\n",
    "\n",
    "\n",
    "class PermutatorBlock(nn.Module):\n",
    "\n",
    "    def __init__(self, dim, segment_dim, mlp_ratio=3.,\n",
    "                 act_layer=nn.GELU, norm_layer=nn.LayerNorm, skip_lam=1.0, mlp_fn=WeightedPermuteMLP):\n",
    "        super().__init__()\n",
    "        self.norm1 = norm_layer(dim)\n",
    "        self.attn = mlp_fn(dim, segment_dim=segment_dim)\n",
    "\n",
    "        self.drop_path = nn.Identity()\n",
    "\n",
    "        self.norm2 = norm_layer(dim)\n",
    "        mlp_hidden_dim = int(dim * mlp_ratio)\n",
    "        self.mlp = Mlp(in_features=dim,\n",
    "                       hidden_features=mlp_hidden_dim, act_layer=act_layer)\n",
    "        self.skip_lam = skip_lam\n",
    "\n",
    "    def forward(self, x):\n",
    "        x = x + self.drop_path(self.attn(self.norm1(x))) / self.skip_lam\n",
    "        x = x + self.drop_path(self.mlp(self.norm2(x))) / self.skip_lam\n",
    "        return x\n",
    "\n",
    "\n",
    "class PatchEmbed(nn.Module):\n",
    "    \"\"\" Image to Patch Embedding\n",
    "    \"\"\"\n",
    "\n",
    "    def __init__(self, img_size=28, patch_size=7, in_chans=1, embed_dim=56):\n",
    "        super().__init__()\n",
    "        self.proj = nn.Conv2d(in_chans, embed_dim, kernel_size=(\n",
    "            img_size // patch_size), stride=(img_size // patch_size))\n",
    "\n",
    "    def forward(self, x):\n",
    "#         print(x.shape)\n",
    "        x = self.proj(x)  # B, C, H, W\n",
    "        return x\n",
    "\n",
    "def basic_blocks(dim, index, layers, segment_dim, mlp_ratio=3.,\n",
    "                 skip_lam=1.0, mlp_fn=WeightedPermuteMLP, **kwargs):\n",
    "    blocks = []\n",
    "\n",
    "    for block_idx in range(layers[index]):\n",
    "        blocks.append(PermutatorBlock(dim, segment_dim, mlp_ratio=mlp_ratio,\n",
    "                                      skip_lam=skip_lam, mlp_fn=mlp_fn))\n",
    "\n",
    "    blocks = nn.Sequential(*blocks)\n",
    "\n",
    "    return blocks\n",
    "\n",
    "\n",
    "class VisionPermutator(nn.Module):\n",
    "    \"\"\" Vision Permutator\n",
    "    \"\"\"\n",
    "\n",
    "    def __init__(self, layers, img_size=28, patch_size=7, in_chans=1, num_classes=10,\n",
    "                 embed_dims=None, segment_dim=None,\n",
    "                 norm_layer=nn.LayerNorm, mlp_fn=WeightedPermuteMLP):\n",
    "\n",
    "        super().__init__()\n",
    "        self.num_classes = num_classes\n",
    "\n",
    "        self.patch_embed = PatchEmbed(\n",
    "            img_size=img_size, patch_size=patch_size, in_chans=in_chans, embed_dim=embed_dims[0])\n",
    "\n",
    "        network = []\n",
    "        for i in range(len(layers)):\n",
    "            stage = basic_blocks(embed_dims[i], i, layers, segment_dim[i],\n",
    "                                 norm_layer=norm_layer,\n",
    "                                 mlp_fn=mlp_fn)\n",
    "            network.append(stage)\n",
    "\n",
    "        self.network = nn.ModuleList(network)\n",
    "\n",
    "        self.norm = norm_layer(embed_dims[-1])\n",
    "\n",
    "        # Classifier head\n",
    "        self.head = nn.Linear(embed_dims[-1], num_classes)\n",
    "        self.apply(self._init_weights)\n",
    "\n",
    "    def forward_embeddings(self, x):\n",
    "        x = self.patch_embed(x)\n",
    "        # B,C,H,W-> B,H,W,C\n",
    "        x = x.permute(0, 2, 3, 1)\n",
    "        return x\n",
    "\n",
    "    def forward_tokens(self, x):\n",
    "        for idx, block in enumerate(self.network):\n",
    "            x = block(x)\n",
    "        B, H, W, C = x.shape\n",
    "        x = x.reshape(B, -1, C)\n",
    "        return x\n",
    "\n",
    "    def forward(self, x):\n",
    "        x = self.forward_embeddings(x)\n",
    "        # B, H, W, C -> B, N, C\n",
    "        x = self.forward_tokens(x)\n",
    "        x = self.norm(x)\n",
    "        return F.log_softmax(self.head(x.mean(1)), dim=1)\n",
    "\n",
    "    def _init_weights(self, m):\n",
    "        if isinstance(m, nn.Linear):\n",
    "            trunc_normal_(m.weight, std=.02)\n",
    "            if isinstance(m, nn.Linear) and m.bias is not None:\n",
    "                nn.init.constant_(m.bias, 0)\n",
    "        elif isinstance(m, nn.LayerNorm):\n",
    "            nn.init.constant_(m.bias, 0)\n",
    "            nn.init.constant_(m.weight, 1.0)"
   ]
  },
  {
   "cell_type": "code",
   "execution_count": 47,
   "metadata": {},
   "outputs": [
    {
     "data": {
      "text/plain": [
       "tensor([[-2.2980, -2.1846, -2.2993, -2.3976, -2.3300, -2.4346, -2.4213, -2.2699,\n",
       "         -2.2908, -2.1411],\n",
       "        [-2.3126, -2.1866, -2.2837, -2.3970, -2.3292, -2.4182, -2.4175, -2.2686,\n",
       "         -2.3009, -2.1493],\n",
       "        [-2.2998, -2.1841, -2.2906, -2.3910, -2.3317, -2.4353, -2.4202, -2.2724,\n",
       "         -2.2924, -2.1481],\n",
       "        [-2.2957, -2.1831, -2.3051, -2.3884, -2.3251, -2.4377, -2.4279, -2.2699,\n",
       "         -2.2962, -2.1390],\n",
       "        [-2.3035, -2.1904, -2.2889, -2.3994, -2.3268, -2.4125, -2.4244, -2.2576,\n",
       "         -2.3034, -2.1558],\n",
       "        [-2.3156, -2.1914, -2.2783, -2.4082, -2.3320, -2.4248, -2.4153, -2.2674,\n",
       "         -2.2942, -2.1393],\n",
       "        [-2.3079, -2.1913, -2.2966, -2.3997, -2.3174, -2.3905, -2.4214, -2.2657,\n",
       "         -2.2985, -2.1685],\n",
       "        [-2.3016, -2.1815, -2.3032, -2.3922, -2.3222, -2.4388, -2.4193, -2.2676,\n",
       "         -2.2978, -2.1429],\n",
       "        [-2.3033, -2.1958, -2.2951, -2.4038, -2.3399, -2.4111, -2.4139, -2.2673,\n",
       "         -2.2866, -2.1460],\n",
       "        [-2.3041, -2.1911, -2.2979, -2.4022, -2.3289, -2.4186, -2.4214, -2.2649,\n",
       "         -2.2905, -2.1449],\n",
       "        [-2.3049, -2.1880, -2.2984, -2.3909, -2.3235, -2.4448, -2.4156, -2.2676,\n",
       "         -2.2915, -2.1417],\n",
       "        [-2.3119, -2.1936, -2.2957, -2.4113, -2.3369, -2.4014, -2.4235, -2.2586,\n",
       "         -2.2938, -2.1386],\n",
       "        [-2.3105, -2.1859, -2.2979, -2.4109, -2.3318, -2.4243, -2.4138, -2.2714,\n",
       "         -2.2839, -2.1369],\n",
       "        [-2.3192, -2.1919, -2.2872, -2.4089, -2.3378, -2.3991, -2.4123, -2.2644,\n",
       "         -2.2886, -2.1523],\n",
       "        [-2.3032, -2.1822, -2.3049, -2.3919, -2.3241, -2.4537, -2.4180, -2.2691,\n",
       "         -2.2923, -2.1315],\n",
       "        [-2.3044, -2.1856, -2.3055, -2.4106, -2.3286, -2.4136, -2.4215, -2.2563,\n",
       "         -2.3014, -2.1394],\n",
       "        [-2.3115, -2.1809, -2.2924, -2.3961, -2.3322, -2.4319, -2.4160, -2.2735,\n",
       "         -2.2920, -2.1405],\n",
       "        [-2.3068, -2.1856, -2.3007, -2.4037, -2.3379, -2.4237, -2.4175, -2.2683,\n",
       "         -2.2884, -2.1349],\n",
       "        [-2.3039, -2.1781, -2.3032, -2.4074, -2.3322, -2.4408, -2.4171, -2.2681,\n",
       "         -2.2864, -2.1337],\n",
       "        [-2.3115, -2.1889, -2.2832, -2.4024, -2.3402, -2.4244, -2.4092, -2.2724,\n",
       "         -2.2890, -2.1437],\n",
       "        [-2.3090, -2.1896, -2.2969, -2.4117, -2.3328, -2.4158, -2.4240, -2.2657,\n",
       "         -2.2939, -2.1292],\n",
       "        [-2.3021, -2.1847, -2.2968, -2.3913, -2.3167, -2.4361, -2.4246, -2.2688,\n",
       "         -2.2957, -2.1489],\n",
       "        [-2.3015, -2.1859, -2.3067, -2.4063, -2.3315, -2.4223, -2.4100, -2.2696,\n",
       "         -2.2853, -2.1455],\n",
       "        [-2.3200, -2.1915, -2.2888, -2.4173, -2.3346, -2.4009, -2.4166, -2.2616,\n",
       "         -2.2948, -2.1393],\n",
       "        [-2.2891, -2.1834, -2.3111, -2.3786, -2.3166, -2.4628, -2.4242, -2.2730,\n",
       "         -2.2939, -2.1378],\n",
       "        [-2.3192, -2.1861, -2.2773, -2.3966, -2.3347, -2.4241, -2.4107, -2.2777,\n",
       "         -2.2896, -2.1478],\n",
       "        [-2.3057, -2.1868, -2.3010, -2.4049, -2.3318, -2.4237, -2.4195, -2.2647,\n",
       "         -2.2963, -2.1335],\n",
       "        [-2.3173, -2.1888, -2.2875, -2.4027, -2.3276, -2.4125, -2.4058, -2.2780,\n",
       "         -2.2904, -2.1508],\n",
       "        [-2.3116, -2.1824, -2.2889, -2.4088, -2.3274, -2.4367, -2.4183, -2.2675,\n",
       "         -2.2889, -2.1387],\n",
       "        [-2.3087, -2.1844, -2.2918, -2.4010, -2.3315, -2.4403, -2.4119, -2.2675,\n",
       "         -2.2921, -2.1388],\n",
       "        [-2.3169, -2.1852, -2.3004, -2.4145, -2.3357, -2.4112, -2.4091, -2.2670,\n",
       "         -2.2909, -2.1354],\n",
       "        [-2.3051, -2.1830, -2.3006, -2.3977, -2.3216, -2.4337, -2.4241, -2.2671,\n",
       "         -2.2912, -2.1432]], grad_fn=<LogSoftmaxBackward0>)"
      ]
     },
     "execution_count": 47,
     "metadata": {},
     "output_type": "execute_result"
    }
   ],
   "source": [
    "layers = [4, 3, 8, 3]\n",
    "segment_dim = [7, 7, 7, 7]\n",
    "embed_dims = [56, 56, 56, 56]\n",
    "model = VisionPermutator(layers, img_size=28, in_chans=1, embed_dims=embed_dims, patch_size=7,\n",
    "                       segment_dim=segment_dim, mlp_fn=WeightedPermuteMLP).to(device)\n",
    "optimizer = torch.optim.SGD(model.parameters(), lr=0.01, momentum=0.5)\n",
    "criterion = nn.CrossEntropyLoss()\n",
    "print(model)"
   ]
  },
  {
   "cell_type": "markdown",
   "metadata": {},
   "source": [
    "## Learning\n",
    "\n",
    "Let's now define functions to `train()` and `validate()` the model. "
   ]
  },
  {
   "cell_type": "code",
   "execution_count": 48,
   "metadata": {},
   "outputs": [],
   "source": [
    "def train(epoch, log_interval=200):\n",
    "    # Set model to training mode\n",
    "    model.train()\n",
    "    \n",
    "    # Loop over each batch from the training set\n",
    "    for batch_idx, (data, target) in enumerate(train_loader):\n",
    "        # Copy data to GPU if needed\n",
    "        data = data.to(device)\n",
    "        target = target.to(device)\n",
    "\n",
    "        # Zero gradient buffers\n",
    "        optimizer.zero_grad() \n",
    "        \n",
    "        # Pass data through the network\n",
    "        output = model(data)\n",
    "\n",
    "        # Calculate loss\n",
    "        loss = criterion(output, target)\n",
    "\n",
    "        # Backpropagate\n",
    "        loss.backward()  \n",
    "        \n",
    "        # Update weights\n",
    "        optimizer.step()    #  w - alpha * dL / dw\n",
    "        \n",
    "        if batch_idx % log_interval == 0:\n",
    "            print('Train Epoch: {} [{}/{} ({:.0f}%)]\\tLoss: {:.6f}'.format(\n",
    "                epoch, batch_idx * len(data), len(train_loader.dataset),\n",
    "                100. * batch_idx / len(train_loader), loss.data.item()))"
   ]
  },
  {
   "cell_type": "code",
   "execution_count": 49,
   "metadata": {},
   "outputs": [],
   "source": [
    "def validate(loss_vector, accuracy_vector):\n",
    "    model.eval()\n",
    "    val_loss, correct = 0, 0\n",
    "    for data, target in validation_loader:\n",
    "        data = data.to(device)\n",
    "        target = target.to(device)\n",
    "        output = model(data)\n",
    "        val_loss += criterion(output, target).data.item()\n",
    "        pred = output.data.max(1)[1] # get the index of the max log-probability\n",
    "        correct += pred.eq(target.data).cpu().sum()\n",
    "\n",
    "    val_loss /= len(validation_loader)\n",
    "    loss_vector.append(val_loss)\n",
    "\n",
    "    accuracy = 100. * correct.to(torch.float32) / len(validation_loader.dataset)\n",
    "    accuracy_vector.append(accuracy)\n",
    "    \n",
    "    print('\\nValidation set: Average loss: {:.4f}, Accuracy: {}/{} ({:.0f}%)\\n'.format(\n",
    "        val_loss, correct, len(validation_loader.dataset), accuracy))\n"
   ]
  },
  {
   "cell_type": "markdown",
   "metadata": {},
   "source": [
    "Now we are ready to train our model using the `train()` function.  An *epoch* means one pass through the whole training data. After each epoch, we evaluate the model using `validate()`. "
   ]
  },
  {
   "cell_type": "code",
   "execution_count": 50,
   "metadata": {},
   "outputs": [
    {
     "ename": "NameError",
     "evalue": "name 'model' is not defined",
     "output_type": "error",
     "traceback": [
      "\u001b[1;31m---------------------------------------------------------------------------\u001b[0m",
      "\u001b[1;31mNameError\u001b[0m                                 Traceback (most recent call last)",
      "File \u001b[1;32m<timed exec>:5\u001b[0m\n",
      "Cell \u001b[1;32mIn[48], line 3\u001b[0m, in \u001b[0;36mtrain\u001b[1;34m(epoch, log_interval)\u001b[0m\n\u001b[0;32m      1\u001b[0m \u001b[38;5;28;01mdef\u001b[39;00m \u001b[38;5;21mtrain\u001b[39m(epoch, log_interval\u001b[38;5;241m=\u001b[39m\u001b[38;5;241m200\u001b[39m):\n\u001b[0;32m      2\u001b[0m     \u001b[38;5;66;03m# Set model to training mode\u001b[39;00m\n\u001b[1;32m----> 3\u001b[0m     \u001b[43mmodel\u001b[49m\u001b[38;5;241m.\u001b[39mtrain()\n\u001b[0;32m      5\u001b[0m     \u001b[38;5;66;03m# Loop over each batch from the training set\u001b[39;00m\n\u001b[0;32m      6\u001b[0m     \u001b[38;5;28;01mfor\u001b[39;00m batch_idx, (data, target) \u001b[38;5;129;01min\u001b[39;00m \u001b[38;5;28menumerate\u001b[39m(train_loader):\n\u001b[0;32m      7\u001b[0m         \u001b[38;5;66;03m# Copy data to GPU if needed\u001b[39;00m\n",
      "\u001b[1;31mNameError\u001b[0m: name 'model' is not defined"
     ]
    }
   ],
   "source": [
    "%%time\n",
    "epochs = 10\n",
    "\n",
    "lossv, accv = [], []\n",
    "for epoch in range(1, epochs + 1):\n",
    "    train(epoch)\n",
    "    validate(lossv, accv)"
   ]
  },
  {
   "cell_type": "markdown",
   "metadata": {},
   "source": [
    "Let's now visualize how the training progressed. \n",
    "\n",
    "* *Loss* is a function of the difference of the network output and the target values.  We are minimizing the loss function during training so it should decrease over time.\n",
    "* *Accuracy* is the classification accuracy for the test data."
   ]
  },
  {
   "cell_type": "code",
   "execution_count": 9,
   "metadata": {},
   "outputs": [
    {
     "data": {
      "image/png": "[encoded data removed]",
      "text/plain": [
       "<Figure size 500x300 with 1 Axes>"
      ]
     },
     "metadata": {},
     "output_type": "display_data"
    },
    {
     "data": {
      "image/png": "[encoded data removed]",
      "text/plain": [
       "<Figure size 500x300 with 1 Axes>"
      ]
     },
     "metadata": {},
     "output_type": "display_data"
    }
   ],
   "source": [
    "plt.figure(figsize=(5,3))\n",
    "plt.plot(np.arange(1,epochs+1), lossv)\n",
    "plt.title('validation loss')\n",
    "\n",
    "plt.figure(figsize=(5,3))\n",
    "plt.plot(np.arange(1,epochs+1), accv)\n",
    "plt.title('validation accuracy');"
   ]
  },
  {
   "cell_type": "markdown",
   "metadata": {},
   "source": [
    "## Model tuning\n",
    "\n",
    "Modify the MLP model.  Try to improve the classification accuracy, or experiment with the effects of different parameters.  If you are interested in the state-of-the-art performance on permutation invariant MNIST, see e.g. this [recent paper](https://arxiv.org/abs/1507.02672) by Aalto University / The Curious AI Company researchers.\n",
    "\n",
    "You can also consult the PyTorch documentation at http://pytorch.org/."
   ]
  },
  {
   "cell_type": "code",
   "execution_count": null,
   "metadata": {},
   "outputs": [],
   "source": []
  }
 ],
 "metadata": {
  "kernelspec": {
   "display_name": "py39",
   "language": "python",
   "name": "py39"
  },
  "language_info": {
   "codemirror_mode": {
    "name": "ipython",
    "version": 3
   },
   "file_extension": ".py",
   "mimetype": "text/x-python",
   "name": "python",
   "nbconvert_exporter": "python",
   "pygments_lexer": "ipython3",
   "version": "3.9.16"
  }
 },
 "nbformat": 4,
 "nbformat_minor": 4
}
