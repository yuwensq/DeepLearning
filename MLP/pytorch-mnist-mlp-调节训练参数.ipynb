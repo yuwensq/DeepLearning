{
 "cells": [
  {
   "cell_type": "markdown",
   "metadata": {},
   "source": [
    "# MNIST handwritten digits classification with MLPs\n",
    "\n",
    "In this notebook, we'll train a multi-layer perceptron model to classify MNIST digits using **PyTorch**. \n",
    "\n",
    "First, the needed imports. "
   ]
  },
  {
   "cell_type": "code",
   "execution_count": 1,
   "metadata": {
    "scrolled": true
   },
   "outputs": [
    {
     "name": "stdout",
     "output_type": "stream",
     "text": [
      "Using PyTorch version: 1.13.0+cu117  Device: cuda\n"
     ]
    }
   ],
   "source": [
    "%matplotlib inline\n",
    "import os    \n",
    "os.environ['KMP_DUPLICATE_LIB_OK'] = 'True'\n",
    "import torch\n",
    "import torch.nn as nn\n",
    "import torch.nn.functional as F\n",
    "from torchvision import datasets, transforms\n",
    "\n",
    "import numpy as np\n",
    "import matplotlib.pyplot as plt\n",
    "\n",
    "if torch.cuda.is_available():\n",
    "    device = torch.device('cuda')\n",
    "else:\n",
    "    device = torch.device('cpu')\n",
    "    \n",
    "print('Using PyTorch version:', torch.__version__, ' Device:', device)"
   ]
  },
  {
   "cell_type": "markdown",
   "metadata": {},
   "source": [
    "## Data\n",
    "\n",
    "Next we'll load the MNIST data.  First time we may have to download the data, which can take a while.\n",
    "\n",
    "Note that we are here using the MNIST test data for *validation*, instead of for testing the final model."
   ]
  },
  {
   "cell_type": "code",
   "execution_count": 2,
   "metadata": {},
   "outputs": [],
   "source": [
    "batch_size = 32\n",
    "\n",
    "train_dataset = datasets.MNIST('./data', \n",
    "                               train=True, \n",
    "                               download=True, \n",
    "                               transform=transforms.ToTensor())\n",
    "\n",
    "validation_dataset = datasets.MNIST('./data', \n",
    "                                    train=False, \n",
    "                                    transform=transforms.ToTensor())\n",
    "\n",
    "train_loader = torch.utils.data.DataLoader(dataset=train_dataset, \n",
    "                                           batch_size=batch_size, \n",
    "                                           shuffle=True)\n",
    "\n",
    "validation_loader = torch.utils.data.DataLoader(dataset=validation_dataset, \n",
    "                                                batch_size=batch_size, \n",
    "                                                shuffle=False)"
   ]
  },
  {
   "cell_type": "markdown",
   "metadata": {},
   "source": [
    "The train and test data are provided via data loaders that provide iterators over the datasets. The first element of training data (`X_train`) is a 4th-order tensor of size (`batch_size`, 1, 28, 28), i.e. it consists of a batch of images of size 1x28x28 pixels. `y_train` is a vector containing the correct classes (\"0\", \"1\", ..., \"9\") for each training digit."
   ]
  },
  {
   "cell_type": "code",
   "execution_count": 3,
   "metadata": {},
   "outputs": [
    {
     "name": "stdout",
     "output_type": "stream",
     "text": [
      "X_train: torch.Size([32, 1, 28, 28]) type: torch.FloatTensor\n",
      "y_train: torch.Size([32]) type: torch.LongTensor\n"
     ]
    }
   ],
   "source": [
    "for (X_train, y_train) in train_loader:\n",
    "    print('X_train:', X_train.size(), 'type:', X_train.type())\n",
    "    print('y_train:', y_train.size(), 'type:', y_train.type())\n",
    "    break"
   ]
  },
  {
   "cell_type": "markdown",
   "metadata": {},
   "source": [
    "Here are the first 10 training digits:"
   ]
  },
  {
   "cell_type": "code",
   "execution_count": 4,
   "metadata": {},
   "outputs": [
    {
     "data": {
      "image/png": "[encoded data removed]",
      "text/plain": [
       "<Figure size 1000x100 with 10 Axes>"
      ]
     },
     "metadata": {},
     "output_type": "display_data"
    }
   ],
   "source": [
    "pltsize=1\n",
    "plt.figure(figsize=(10*pltsize, pltsize))\n",
    "\n",
    "for i in range(10):\n",
    "    plt.subplot(1,10,i+1)\n",
    "    plt.axis('off')\n",
    "    plt.imshow(X_train[i,:,:,:].numpy().reshape(28,28), cmap=\"gray_r\")\n",
    "    plt.title('Class: '+str(y_train[i].item()))"
   ]
  },
  {
   "cell_type": "markdown",
   "metadata": {},
   "source": [
    "## MLP network definition\n",
    "\n",
    "Let's define the network as a Python class.  We have to write the `__init__()` and `forward()` methods, and PyTorch will automatically generate a `backward()` method for computing the gradients for the backward pass.\n",
    "\n",
    "Finally, we define an optimizer to update the model parameters based on the computed gradients.  We select *stochastic gradient descent (with momentum)* as the optimization algorithm, and set *learning rate* to 0.01.  Note that there are [several different options](http://pytorch.org/docs/optim.html#algorithms) for the optimizer in PyTorch that we could use instead of *SGD*."
   ]
  },
  {
   "cell_type": "code",
   "execution_count": 5,
   "metadata": {},
   "outputs": [
    {
     "name": "stdout",
     "output_type": "stream",
     "text": [
      "Net(\n",
      "  (fc1): Linear(in_features=784, out_features=100, bias=True)\n",
      "  (fc1_drop): Dropout(p=0.2, inplace=False)\n",
      "  (fc2): Linear(in_features=100, out_features=80, bias=True)\n",
      "  (fc2_drop): Dropout(p=0.2, inplace=False)\n",
      "  (fc3): Linear(in_features=80, out_features=10, bias=True)\n",
      ")\n"
     ]
    }
   ],
   "source": [
    "class Net(nn.Module):\n",
    "    def __init__(self):\n",
    "        super(Net, self).__init__()\n",
    "        self.fc1 = nn.Linear(28*28, 100)  # weight: [28*28, 50]   bias: [50, ]\n",
    "        self.fc1_drop = nn.Dropout(0.2)\n",
    "        self.fc2 = nn.Linear(100, 80)\n",
    "        self.fc2_drop = nn.Dropout(0.2)\n",
    "        self.fc3 = nn.Linear(80, 10)\n",
    "        \n",
    "#         self.relu1 = nn.ReLU() \n",
    "\n",
    "    def forward(self, x):\n",
    "        x = x.view(-1, 28*28)   # [32, 28*28]\n",
    "        x = F.relu(self.fc1(x))\n",
    "        x = self.fc1_drop(x)\n",
    "        x = F.relu(self.fc2(x))\n",
    "        x = self.fc2_drop(x)   # [32, 10]\n",
    "        return F.log_softmax(self.fc3(x), dim=1)\n",
    "\n",
    "model = Net().to(device)\n",
    "optimizer = torch.optim.SGD(model.parameters(), lr=0.04, momentum=0.5)\n",
    "criterion = nn.CrossEntropyLoss()\n",
    "\n",
    "print(model)"
   ]
  },
  {
   "cell_type": "markdown",
   "metadata": {},
   "source": [
    "## Learning\n",
    "\n",
    "Let's now define functions to `train()` and `validate()` the model. "
   ]
  },
  {
   "cell_type": "code",
   "execution_count": 6,
   "metadata": {},
   "outputs": [],
   "source": [
    "def train(epoch, log_interval=200):\n",
    "    # Set model to training mode\n",
    "    model.train()\n",
    "    \n",
    "    # Loop over each batch from the training set\n",
    "    for batch_idx, (data, target) in enumerate(train_loader):\n",
    "        # Copy data to GPU if needed\n",
    "        data = data.to(device)\n",
    "        target = target.to(device)\n",
    "\n",
    "        # Zero gradient buffers\n",
    "        optimizer.zero_grad() \n",
    "        \n",
    "        # Pass data through the network\n",
    "        output = model(data)\n",
    "\n",
    "        # Calculate loss\n",
    "        loss = criterion(output, target)\n",
    "\n",
    "        # Backpropagate\n",
    "        loss.backward()  \n",
    "        \n",
    "        # Update weights\n",
    "        optimizer.step()    #  w - alpha * dL / dw\n",
    "        \n",
    "        if batch_idx % log_interval == 0:\n",
    "            print('Train Epoch: {} [{}/{} ({:.0f}%)]\\tLoss: {:.6f}'.format(\n",
    "                epoch, batch_idx * len(data), len(train_loader.dataset),\n",
    "                100. * batch_idx / len(train_loader), loss.data.item()))"
   ]
  },
  {
   "cell_type": "code",
   "execution_count": 7,
   "metadata": {},
   "outputs": [],
   "source": [
    "def validate(loss_vector, accuracy_vector):\n",
    "    model.eval()\n",
    "    val_loss, correct = 0, 0\n",
    "    for data, target in validation_loader:\n",
    "        data = data.to(device)\n",
    "        target = target.to(device)\n",
    "        output = model(data)\n",
    "        val_loss += criterion(output, target).data.item()\n",
    "        pred = output.data.max(1)[1] # get the index of the max log-probability\n",
    "        correct += pred.eq(target.data).cpu().sum()\n",
    "\n",
    "    val_loss /= len(validation_loader)\n",
    "    loss_vector.append(val_loss)\n",
    "\n",
    "    accuracy = 100. * correct.to(torch.float32) / len(validation_loader.dataset)\n",
    "    accuracy_vector.append(accuracy)\n",
    "    \n",
    "    print('\\nValidation set: Average loss: {:.4f}, Accuracy: {}/{} ({:.0f}%)\\n'.format(\n",
    "        val_loss, correct, len(validation_loader.dataset), accuracy))\n"
   ]
  },
  {
   "cell_type": "markdown",
   "metadata": {},
   "source": [
    "Now we are ready to train our model using the `train()` function.  An *epoch* means one pass through the whole training data. After each epoch, we evaluate the model using `validate()`. "
   ]
  },
  {
   "cell_type": "code",
   "execution_count": 8,
   "metadata": {
    "scrolled": false
   },
   "outputs": [
    {
     "name": "stdout",
     "output_type": "stream",
     "text": [
      "Train Epoch: 1 [0/60000 (0%)]\tLoss: 2.305018\n",
      "Train Epoch: 1 [6400/60000 (11%)]\tLoss: 0.595094\n",
      "Train Epoch: 1 [12800/60000 (21%)]\tLoss: 0.719285\n",
      "Train Epoch: 1 [19200/60000 (32%)]\tLoss: 0.423832\n",
      "Train Epoch: 1 [25600/60000 (43%)]\tLoss: 0.156638\n",
      "Train Epoch: 1 [32000/60000 (53%)]\tLoss: 0.274606\n",
      "Train Epoch: 1 [38400/60000 (64%)]\tLoss: 0.051468\n",
      "Train Epoch: 1 [44800/60000 (75%)]\tLoss: 0.418202\n",
      "Train Epoch: 1 [51200/60000 (85%)]\tLoss: 0.166123\n",
      "Train Epoch: 1 [57600/60000 (96%)]\tLoss: 0.250846\n",
      "\n",
      "Validation set: Average loss: 0.1737, Accuracy: 9452/10000 (95%)\n",
      "\n",
      "Train Epoch: 2 [0/60000 (0%)]\tLoss: 0.103549\n",
      "Train Epoch: 2 [6400/60000 (11%)]\tLoss: 0.179656\n",
      "Train Epoch: 2 [12800/60000 (21%)]\tLoss: 0.093925\n",
      "Train Epoch: 2 [19200/60000 (32%)]\tLoss: 0.181314\n",
      "Train Epoch: 2 [25600/60000 (43%)]\tLoss: 0.166392\n",
      "Train Epoch: 2 [32000/60000 (53%)]\tLoss: 0.097798\n",
      "Train Epoch: 2 [38400/60000 (64%)]\tLoss: 0.039790\n",
      "Train Epoch: 2 [44800/60000 (75%)]\tLoss: 0.097369\n",
      "Train Epoch: 2 [51200/60000 (85%)]\tLoss: 0.067207\n",
      "Train Epoch: 2 [57600/60000 (96%)]\tLoss: 0.150846\n",
      "\n",
      "Validation set: Average loss: 0.1234, Accuracy: 9620/10000 (96%)\n",
      "\n",
      "Train Epoch: 3 [0/60000 (0%)]\tLoss: 0.519655\n",
      "Train Epoch: 3 [6400/60000 (11%)]\tLoss: 0.208193\n",
      "Train Epoch: 3 [12800/60000 (21%)]\tLoss: 0.115561\n",
      "Train Epoch: 3 [19200/60000 (32%)]\tLoss: 0.115568\n",
      "Train Epoch: 3 [25600/60000 (43%)]\tLoss: 0.031875\n",
      "Train Epoch: 3 [32000/60000 (53%)]\tLoss: 0.218290\n",
      "Train Epoch: 3 [38400/60000 (64%)]\tLoss: 0.121781\n",
      "Train Epoch: 3 [44800/60000 (75%)]\tLoss: 0.133575\n",
      "Train Epoch: 3 [51200/60000 (85%)]\tLoss: 0.232022\n",
      "Train Epoch: 3 [57600/60000 (96%)]\tLoss: 0.038085\n",
      "\n",
      "Validation set: Average loss: 0.1027, Accuracy: 9691/10000 (97%)\n",
      "\n",
      "Train Epoch: 4 [0/60000 (0%)]\tLoss: 0.095760\n",
      "Train Epoch: 4 [6400/60000 (11%)]\tLoss: 0.036178\n",
      "Train Epoch: 4 [12800/60000 (21%)]\tLoss: 0.445743\n",
      "Train Epoch: 4 [19200/60000 (32%)]\tLoss: 0.056045\n",
      "Train Epoch: 4 [25600/60000 (43%)]\tLoss: 0.093166\n",
      "Train Epoch: 4 [32000/60000 (53%)]\tLoss: 0.100805\n",
      "Train Epoch: 4 [38400/60000 (64%)]\tLoss: 0.053474\n",
      "Train Epoch: 4 [44800/60000 (75%)]\tLoss: 0.024846\n",
      "Train Epoch: 4 [51200/60000 (85%)]\tLoss: 0.037439\n",
      "Train Epoch: 4 [57600/60000 (96%)]\tLoss: 0.243025\n",
      "\n",
      "Validation set: Average loss: 0.0916, Accuracy: 9710/10000 (97%)\n",
      "\n",
      "Train Epoch: 5 [0/60000 (0%)]\tLoss: 0.320195\n",
      "Train Epoch: 5 [6400/60000 (11%)]\tLoss: 0.049527\n",
      "Train Epoch: 5 [12800/60000 (21%)]\tLoss: 0.040204\n",
      "Train Epoch: 5 [19200/60000 (32%)]\tLoss: 0.026773\n",
      "Train Epoch: 5 [25600/60000 (43%)]\tLoss: 0.142550\n",
      "Train Epoch: 5 [32000/60000 (53%)]\tLoss: 0.078268\n",
      "Train Epoch: 5 [38400/60000 (64%)]\tLoss: 0.022903\n",
      "Train Epoch: 5 [44800/60000 (75%)]\tLoss: 0.024757\n",
      "Train Epoch: 5 [51200/60000 (85%)]\tLoss: 0.027319\n",
      "Train Epoch: 5 [57600/60000 (96%)]\tLoss: 0.124256\n",
      "\n",
      "Validation set: Average loss: 0.0888, Accuracy: 9719/10000 (97%)\n",
      "\n",
      "Train Epoch: 6 [0/60000 (0%)]\tLoss: 0.189541\n",
      "Train Epoch: 6 [6400/60000 (11%)]\tLoss: 0.151624\n",
      "Train Epoch: 6 [12800/60000 (21%)]\tLoss: 0.222141\n",
      "Train Epoch: 6 [19200/60000 (32%)]\tLoss: 0.132896\n",
      "Train Epoch: 6 [25600/60000 (43%)]\tLoss: 0.153755\n",
      "Train Epoch: 6 [32000/60000 (53%)]\tLoss: 0.072631\n",
      "Train Epoch: 6 [38400/60000 (64%)]\tLoss: 0.046794\n",
      "Train Epoch: 6 [44800/60000 (75%)]\tLoss: 0.099942\n",
      "Train Epoch: 6 [51200/60000 (85%)]\tLoss: 0.059491\n",
      "Train Epoch: 6 [57600/60000 (96%)]\tLoss: 0.045042\n",
      "\n",
      "Validation set: Average loss: 0.0855, Accuracy: 9733/10000 (97%)\n",
      "\n",
      "Train Epoch: 7 [0/60000 (0%)]\tLoss: 0.022970\n",
      "Train Epoch: 7 [6400/60000 (11%)]\tLoss: 0.073884\n",
      "Train Epoch: 7 [12800/60000 (21%)]\tLoss: 0.077471\n",
      "Train Epoch: 7 [19200/60000 (32%)]\tLoss: 0.060502\n",
      "Train Epoch: 7 [25600/60000 (43%)]\tLoss: 0.207856\n",
      "Train Epoch: 7 [32000/60000 (53%)]\tLoss: 0.027082\n",
      "Train Epoch: 7 [38400/60000 (64%)]\tLoss: 0.325573\n",
      "Train Epoch: 7 [44800/60000 (75%)]\tLoss: 0.018579\n",
      "Train Epoch: 7 [51200/60000 (85%)]\tLoss: 0.226171\n",
      "Train Epoch: 7 [57600/60000 (96%)]\tLoss: 0.154217\n",
      "\n",
      "Validation set: Average loss: 0.0838, Accuracy: 9744/10000 (97%)\n",
      "\n",
      "Train Epoch: 8 [0/60000 (0%)]\tLoss: 0.020562\n",
      "Train Epoch: 8 [6400/60000 (11%)]\tLoss: 0.273195\n",
      "Train Epoch: 8 [12800/60000 (21%)]\tLoss: 0.025489\n",
      "Train Epoch: 8 [19200/60000 (32%)]\tLoss: 0.007116\n",
      "Train Epoch: 8 [25600/60000 (43%)]\tLoss: 0.026883\n",
      "Train Epoch: 8 [32000/60000 (53%)]\tLoss: 0.050157\n",
      "Train Epoch: 8 [38400/60000 (64%)]\tLoss: 0.018349\n",
      "Train Epoch: 8 [44800/60000 (75%)]\tLoss: 0.028803\n",
      "Train Epoch: 8 [51200/60000 (85%)]\tLoss: 0.014312\n",
      "Train Epoch: 8 [57600/60000 (96%)]\tLoss: 0.127141\n",
      "\n",
      "Validation set: Average loss: 0.0773, Accuracy: 9765/10000 (98%)\n",
      "\n",
      "Train Epoch: 9 [0/60000 (0%)]\tLoss: 0.080167\n",
      "Train Epoch: 9 [6400/60000 (11%)]\tLoss: 0.191053\n",
      "Train Epoch: 9 [12800/60000 (21%)]\tLoss: 0.026027\n",
      "Train Epoch: 9 [19200/60000 (32%)]\tLoss: 0.033733\n",
      "Train Epoch: 9 [25600/60000 (43%)]\tLoss: 0.048863\n",
      "Train Epoch: 9 [32000/60000 (53%)]\tLoss: 0.041163\n",
      "Train Epoch: 9 [38400/60000 (64%)]\tLoss: 0.017353\n",
      "Train Epoch: 9 [44800/60000 (75%)]\tLoss: 0.125451\n",
      "Train Epoch: 9 [51200/60000 (85%)]\tLoss: 0.058862\n",
      "Train Epoch: 9 [57600/60000 (96%)]\tLoss: 0.053998\n",
      "\n",
      "Validation set: Average loss: 0.0727, Accuracy: 9777/10000 (98%)\n",
      "\n",
      "Train Epoch: 10 [0/60000 (0%)]\tLoss: 0.055170\n",
      "Train Epoch: 10 [6400/60000 (11%)]\tLoss: 0.279982\n",
      "Train Epoch: 10 [12800/60000 (21%)]\tLoss: 0.076188\n",
      "Train Epoch: 10 [19200/60000 (32%)]\tLoss: 0.056114\n",
      "Train Epoch: 10 [25600/60000 (43%)]\tLoss: 0.183530\n",
      "Train Epoch: 10 [32000/60000 (53%)]\tLoss: 0.076715\n",
      "Train Epoch: 10 [38400/60000 (64%)]\tLoss: 0.192999\n",
      "Train Epoch: 10 [44800/60000 (75%)]\tLoss: 0.085518\n",
      "Train Epoch: 10 [51200/60000 (85%)]\tLoss: 0.057992\n",
      "Train Epoch: 10 [57600/60000 (96%)]\tLoss: 0.007180\n",
      "\n",
      "Validation set: Average loss: 0.0723, Accuracy: 9782/10000 (98%)\n",
      "\n",
      "CPU times: total: 56.7 s\n",
      "Wall time: 1min 50s\n"
     ]
    }
   ],
   "source": [
    "%%time\n",
    "epochs = 10\n",
    "\n",
    "lossv, accv = [], []\n",
    "for epoch in range(1, epochs + 1):\n",
    "    train(epoch)\n",
    "    validate(lossv, accv)"
   ]
  },
  {
   "cell_type": "markdown",
   "metadata": {},
   "source": [
    "Let's now visualize how the training progressed. \n",
    "\n",
    "* *Loss* is a function of the difference of the network output and the target values.  We are minimizing the loss function during training so it should decrease over time.\n",
    "* *Accuracy* is the classification accuracy for the test data."
   ]
  },
  {
   "cell_type": "code",
   "execution_count": 9,
   "metadata": {},
   "outputs": [
    {
     "data": {
      "image/png": "[encoded data removed]",
      "text/plain": [
       "<Figure size 500x300 with 1 Axes>"
      ]
     },
     "metadata": {},
     "output_type": "display_data"
    },
    {
     "data": {
      "image/png": "[encoded data removed]",
      "text/plain": [
       "<Figure size 500x300 with 1 Axes>"
      ]
     },
     "metadata": {},
     "output_type": "display_data"
    }
   ],
   "source": [
    "plt.figure(figsize=(5,3))\n",
    "plt.plot(np.arange(1,epochs+1), lossv)\n",
    "plt.title('validation loss')\n",
    "\n",
    "plt.figure(figsize=(5,3))\n",
    "plt.plot(np.arange(1,epochs+1), accv)\n",
    "plt.title('validation accuracy');"
   ]
  },
  {
   "cell_type": "markdown",
   "metadata": {},
   "source": [
    "## Model tuning\n",
    "\n",
    "Modify the MLP model.  Try to improve the classification accuracy, or experiment with the effects of different parameters.  If you are interested in the state-of-the-art performance on permutation invariant MNIST, see e.g. this [recent paper](https://arxiv.org/abs/1507.02672) by Aalto University / The Curious AI Company researchers.\n",
    "\n",
    "You can also consult the PyTorch documentation at http://pytorch.org/."
   ]
  },
  {
   "cell_type": "code",
   "execution_count": null,
   "metadata": {},
   "outputs": [],
   "source": []
  }
 ],
 "metadata": {
  "kernelspec": {
   "display_name": "py39",
   "language": "python",
   "name": "py39"
  },
  "language_info": {
   "codemirror_mode": {
    "name": "ipython",
    "version": 3
   },
   "file_extension": ".py",
   "mimetype": "text/x-python",
   "name": "python",
   "nbconvert_exporter": "python",
   "pygments_lexer": "ipython3",
   "version": "3.9.16"
  }
 },
 "nbformat": 4,
 "nbformat_minor": 4
}
